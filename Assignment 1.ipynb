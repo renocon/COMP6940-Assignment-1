{
 "cells": [
  {
   "cell_type": "raw",
   "metadata": {
    "collapsed": true
   },
   "source": [
    "To start, we will import some packages that we would use to read and manipulate our data set."
   ]
  },
  {
   "cell_type": "code",
   "execution_count": 1,
   "metadata": {},
   "outputs": [],
   "source": [
    "import pandas as pd\n",
    "import numpy as np\n",
    "import matplotlib.pyplot as plt\n",
    "import seaborn as sns\n",
    "import math\n",
    "import dateutil\n",
    "from geopy.geocoders import Nominatim\n",
    "import folium\n",
    "from statsmodels.graphics.mosaicplot import mosaic"
   ]
  },
  {
   "cell_type": "raw",
   "metadata": {
    "collapsed": true
   },
   "source": [
    "Next, we import the data that we want to explore which is stored in \"survey.csv\". It contains the responses to question from a mental health survey."
   ]
  },
  {
   "cell_type": "code",
   "execution_count": 2,
   "metadata": {
    "collapsed": true
   },
   "outputs": [],
   "source": [
    "df = pd.read_csv('survey.csv')"
   ]
  },
  {
   "cell_type": "raw",
   "metadata": {},
   "source": [
    "It is important for us to know the number of participants(rows) and features(columns) captured in the data set. Following this, we must know the data types of the features.\n",
    "This information could potentially guide the decisions we will make when cleaning the data."
   ]
  },
  {
   "cell_type": "code",
   "execution_count": 3,
   "metadata": {},
   "outputs": [
    {
     "data": {
      "text/plain": [
       "(1259, 27)"
      ]
     },
     "execution_count": 3,
     "metadata": {},
     "output_type": "execute_result"
    }
   ],
   "source": [
    "df.shape"
   ]
  },
  {
   "cell_type": "code",
   "execution_count": 4,
   "metadata": {},
   "outputs": [
    {
     "data": {
      "text/plain": [
       "Timestamp                    object\n",
       "Age                           int64\n",
       "Gender                       object\n",
       "Country                      object\n",
       "state                        object\n",
       "self_employed                object\n",
       "family_history               object\n",
       "treatment                    object\n",
       "work_interfere               object\n",
       "no_employees                 object\n",
       "remote_work                  object\n",
       "tech_company                 object\n",
       "benefits                     object\n",
       "care_options                 object\n",
       "wellness_program             object\n",
       "seek_help                    object\n",
       "anonymity                    object\n",
       "leave                        object\n",
       "mental_health_consequence    object\n",
       "phys_health_consequence      object\n",
       "coworkers                    object\n",
       "supervisor                   object\n",
       "mental_health_interview      object\n",
       "phys_health_interview        object\n",
       "mental_vs_physical           object\n",
       "obs_consequence              object\n",
       "comments                     object\n",
       "dtype: object"
      ]
     },
     "execution_count": 4,
     "metadata": {},
     "output_type": "execute_result"
    }
   ],
   "source": [
    "df.dtypes"
   ]
  },
  {
   "cell_type": "raw",
   "metadata": {
    "scrolled": true
   },
   "source": [
    "Given that all columns, with the exception of age are object, we need to have a closer look at what data is actually in the file. To do this, we will peak at the first few rows of the file."
   ]
  },
  {
   "cell_type": "code",
   "execution_count": 5,
   "metadata": {},
   "outputs": [
    {
     "data": {
      "text/html": [
       "<div>\n",
       "<style>\n",
       "    .dataframe thead tr:only-child th {\n",
       "        text-align: right;\n",
       "    }\n",
       "\n",
       "    .dataframe thead th {\n",
       "        text-align: left;\n",
       "    }\n",
       "\n",
       "    .dataframe tbody tr th {\n",
       "        vertical-align: top;\n",
       "    }\n",
       "</style>\n",
       "<table border=\"1\" class=\"dataframe\">\n",
       "  <thead>\n",
       "    <tr style=\"text-align: right;\">\n",
       "      <th></th>\n",
       "      <th>Timestamp</th>\n",
       "      <th>Age</th>\n",
       "      <th>Gender</th>\n",
       "      <th>Country</th>\n",
       "      <th>state</th>\n",
       "      <th>self_employed</th>\n",
       "      <th>family_history</th>\n",
       "      <th>treatment</th>\n",
       "      <th>work_interfere</th>\n",
       "      <th>no_employees</th>\n",
       "      <th>...</th>\n",
       "      <th>leave</th>\n",
       "      <th>mental_health_consequence</th>\n",
       "      <th>phys_health_consequence</th>\n",
       "      <th>coworkers</th>\n",
       "      <th>supervisor</th>\n",
       "      <th>mental_health_interview</th>\n",
       "      <th>phys_health_interview</th>\n",
       "      <th>mental_vs_physical</th>\n",
       "      <th>obs_consequence</th>\n",
       "      <th>comments</th>\n",
       "    </tr>\n",
       "  </thead>\n",
       "  <tbody>\n",
       "    <tr>\n",
       "      <th>0</th>\n",
       "      <td>2014-08-27 11:29:31</td>\n",
       "      <td>37</td>\n",
       "      <td>Female</td>\n",
       "      <td>United States</td>\n",
       "      <td>IL</td>\n",
       "      <td>NaN</td>\n",
       "      <td>No</td>\n",
       "      <td>Yes</td>\n",
       "      <td>Often</td>\n",
       "      <td>6-25</td>\n",
       "      <td>...</td>\n",
       "      <td>Somewhat easy</td>\n",
       "      <td>No</td>\n",
       "      <td>No</td>\n",
       "      <td>Some of them</td>\n",
       "      <td>Yes</td>\n",
       "      <td>No</td>\n",
       "      <td>Maybe</td>\n",
       "      <td>Yes</td>\n",
       "      <td>No</td>\n",
       "      <td>NaN</td>\n",
       "    </tr>\n",
       "    <tr>\n",
       "      <th>1</th>\n",
       "      <td>2014-08-27 11:29:37</td>\n",
       "      <td>44</td>\n",
       "      <td>M</td>\n",
       "      <td>United States</td>\n",
       "      <td>IN</td>\n",
       "      <td>NaN</td>\n",
       "      <td>No</td>\n",
       "      <td>No</td>\n",
       "      <td>Rarely</td>\n",
       "      <td>More than 1000</td>\n",
       "      <td>...</td>\n",
       "      <td>Don't know</td>\n",
       "      <td>Maybe</td>\n",
       "      <td>No</td>\n",
       "      <td>No</td>\n",
       "      <td>No</td>\n",
       "      <td>No</td>\n",
       "      <td>No</td>\n",
       "      <td>Don't know</td>\n",
       "      <td>No</td>\n",
       "      <td>NaN</td>\n",
       "    </tr>\n",
       "    <tr>\n",
       "      <th>2</th>\n",
       "      <td>2014-08-27 11:29:44</td>\n",
       "      <td>32</td>\n",
       "      <td>Male</td>\n",
       "      <td>Canada</td>\n",
       "      <td>NaN</td>\n",
       "      <td>NaN</td>\n",
       "      <td>No</td>\n",
       "      <td>No</td>\n",
       "      <td>Rarely</td>\n",
       "      <td>6-25</td>\n",
       "      <td>...</td>\n",
       "      <td>Somewhat difficult</td>\n",
       "      <td>No</td>\n",
       "      <td>No</td>\n",
       "      <td>Yes</td>\n",
       "      <td>Yes</td>\n",
       "      <td>Yes</td>\n",
       "      <td>Yes</td>\n",
       "      <td>No</td>\n",
       "      <td>No</td>\n",
       "      <td>NaN</td>\n",
       "    </tr>\n",
       "    <tr>\n",
       "      <th>3</th>\n",
       "      <td>2014-08-27 11:29:46</td>\n",
       "      <td>31</td>\n",
       "      <td>Male</td>\n",
       "      <td>United Kingdom</td>\n",
       "      <td>NaN</td>\n",
       "      <td>NaN</td>\n",
       "      <td>Yes</td>\n",
       "      <td>Yes</td>\n",
       "      <td>Often</td>\n",
       "      <td>26-100</td>\n",
       "      <td>...</td>\n",
       "      <td>Somewhat difficult</td>\n",
       "      <td>Yes</td>\n",
       "      <td>Yes</td>\n",
       "      <td>Some of them</td>\n",
       "      <td>No</td>\n",
       "      <td>Maybe</td>\n",
       "      <td>Maybe</td>\n",
       "      <td>No</td>\n",
       "      <td>Yes</td>\n",
       "      <td>NaN</td>\n",
       "    </tr>\n",
       "    <tr>\n",
       "      <th>4</th>\n",
       "      <td>2014-08-27 11:30:22</td>\n",
       "      <td>31</td>\n",
       "      <td>Male</td>\n",
       "      <td>United States</td>\n",
       "      <td>TX</td>\n",
       "      <td>NaN</td>\n",
       "      <td>No</td>\n",
       "      <td>No</td>\n",
       "      <td>Never</td>\n",
       "      <td>100-500</td>\n",
       "      <td>...</td>\n",
       "      <td>Don't know</td>\n",
       "      <td>No</td>\n",
       "      <td>No</td>\n",
       "      <td>Some of them</td>\n",
       "      <td>Yes</td>\n",
       "      <td>Yes</td>\n",
       "      <td>Yes</td>\n",
       "      <td>Don't know</td>\n",
       "      <td>No</td>\n",
       "      <td>NaN</td>\n",
       "    </tr>\n",
       "  </tbody>\n",
       "</table>\n",
       "<p>5 rows × 27 columns</p>\n",
       "</div>"
      ],
      "text/plain": [
       "             Timestamp  Age  Gender         Country state self_employed  \\\n",
       "0  2014-08-27 11:29:31   37  Female   United States    IL           NaN   \n",
       "1  2014-08-27 11:29:37   44       M   United States    IN           NaN   \n",
       "2  2014-08-27 11:29:44   32    Male          Canada   NaN           NaN   \n",
       "3  2014-08-27 11:29:46   31    Male  United Kingdom   NaN           NaN   \n",
       "4  2014-08-27 11:30:22   31    Male   United States    TX           NaN   \n",
       "\n",
       "  family_history treatment work_interfere    no_employees   ...     \\\n",
       "0             No       Yes          Often            6-25   ...      \n",
       "1             No        No         Rarely  More than 1000   ...      \n",
       "2             No        No         Rarely            6-25   ...      \n",
       "3            Yes       Yes          Often          26-100   ...      \n",
       "4             No        No          Never         100-500   ...      \n",
       "\n",
       "                leave mental_health_consequence phys_health_consequence  \\\n",
       "0       Somewhat easy                        No                      No   \n",
       "1          Don't know                     Maybe                      No   \n",
       "2  Somewhat difficult                        No                      No   \n",
       "3  Somewhat difficult                       Yes                     Yes   \n",
       "4          Don't know                        No                      No   \n",
       "\n",
       "      coworkers supervisor mental_health_interview phys_health_interview  \\\n",
       "0  Some of them        Yes                      No                 Maybe   \n",
       "1            No         No                      No                    No   \n",
       "2           Yes        Yes                     Yes                   Yes   \n",
       "3  Some of them         No                   Maybe                 Maybe   \n",
       "4  Some of them        Yes                     Yes                   Yes   \n",
       "\n",
       "  mental_vs_physical obs_consequence comments  \n",
       "0                Yes              No      NaN  \n",
       "1         Don't know              No      NaN  \n",
       "2                 No              No      NaN  \n",
       "3                 No             Yes      NaN  \n",
       "4         Don't know              No      NaN  \n",
       "\n",
       "[5 rows x 27 columns]"
      ]
     },
     "execution_count": 5,
     "metadata": {},
     "output_type": "execute_result"
    }
   ],
   "source": [
    "df.head()"
   ]
  },
  {
   "cell_type": "raw",
   "metadata": {},
   "source": [
    "We notice that the other columns are textual and that there are missing values. The self_employed column head does not give any idea of what we might expect here. We will probe into it later. For the others, the object data type may not affect our analysis. We also need to look closer at the timestamp column. Due to the closeness of the values  in the head, we might assume it is simply the date and time the form was submitted."
   ]
  },
  {
   "cell_type": "code",
   "execution_count": 6,
   "metadata": {},
   "outputs": [
    {
     "data": {
      "text/plain": [
       "{'2014-08-27',\n",
       " '2014-08-28',\n",
       " '2014-08-29',\n",
       " '2014-08-30',\n",
       " '2014-08-31',\n",
       " '2014-09-01',\n",
       " '2014-09-02',\n",
       " '2014-09-03',\n",
       " '2014-09-04',\n",
       " '2014-09-05',\n",
       " '2014-09-08',\n",
       " '2014-09-09',\n",
       " '2014-09-11',\n",
       " '2014-09-12',\n",
       " '2014-09-13',\n",
       " '2014-09-14',\n",
       " '2014-09-20',\n",
       " '2014-09-23',\n",
       " '2014-09-26',\n",
       " '2014-09-30',\n",
       " '2014-10-02',\n",
       " '2014-10-05',\n",
       " '2014-10-09',\n",
       " '2014-11-05',\n",
       " '2014-11-06',\n",
       " '2014-11-16',\n",
       " '2014-12-01',\n",
       " '2014-12-15',\n",
       " '2015-01-03',\n",
       " '2015-02-21',\n",
       " '2015-02-22',\n",
       " '2015-02-24',\n",
       " '2015-02-26',\n",
       " '2015-04-02',\n",
       " '2015-04-04',\n",
       " '2015-04-06',\n",
       " '2015-04-11',\n",
       " '2015-04-23',\n",
       " '2015-05-05',\n",
       " '2015-05-06',\n",
       " '2015-05-07',\n",
       " '2015-06-25',\n",
       " '2015-07-22',\n",
       " '2015-07-27',\n",
       " '2015-08-17',\n",
       " '2015-08-20',\n",
       " '2015-08-25',\n",
       " '2015-09-12',\n",
       " '2015-09-26',\n",
       " '2015-11-07',\n",
       " '2015-11-30',\n",
       " '2016-02-01'}"
      ]
     },
     "execution_count": 6,
     "metadata": {},
     "output_type": "execute_result"
    }
   ],
   "source": [
    "set(val[0:10] for val in df['Timestamp'])"
   ]
  },
  {
   "cell_type": "raw",
   "metadata": {},
   "source": [
    "This indicates that the data was collected between late August 2014 and early February 2016. This may not hold any relevance depending on what we are looking for. Let's change it's data type to datetime, just in case."
   ]
  },
  {
   "cell_type": "code",
   "execution_count": 7,
   "metadata": {},
   "outputs": [],
   "source": [
    "df['Timestamp'] = df['Timestamp'].apply(dateutil.parser.parse)"
   ]
  },
  {
   "cell_type": "code",
   "execution_count": 8,
   "metadata": {
    "scrolled": true
   },
   "outputs": [
    {
     "data": {
      "text/plain": [
       "Timestamp                    datetime64[ns]\n",
       "Age                                   int64\n",
       "Gender                               object\n",
       "Country                              object\n",
       "state                                object\n",
       "self_employed                        object\n",
       "family_history                       object\n",
       "treatment                            object\n",
       "work_interfere                       object\n",
       "no_employees                         object\n",
       "remote_work                          object\n",
       "tech_company                         object\n",
       "benefits                             object\n",
       "care_options                         object\n",
       "wellness_program                     object\n",
       "seek_help                            object\n",
       "anonymity                            object\n",
       "leave                                object\n",
       "mental_health_consequence            object\n",
       "phys_health_consequence              object\n",
       "coworkers                            object\n",
       "supervisor                           object\n",
       "mental_health_interview              object\n",
       "phys_health_interview                object\n",
       "mental_vs_physical                   object\n",
       "obs_consequence                      object\n",
       "comments                             object\n",
       "dtype: object"
      ]
     },
     "execution_count": 8,
     "metadata": {},
     "output_type": "execute_result"
    }
   ],
   "source": [
    "df.dtypes"
   ]
  },
  {
   "cell_type": "raw",
   "metadata": {},
   "source": [
    "Now, let's see if any columns are totally empty."
   ]
  },
  {
   "cell_type": "code",
   "execution_count": 9,
   "metadata": {},
   "outputs": [
    {
     "data": {
      "text/plain": [
       "[]"
      ]
     },
     "execution_count": 9,
     "metadata": {},
     "output_type": "execute_result"
    }
   ],
   "source": [
    "all_nan = df.columns[df.isnull().all()]\n",
    "list(all_nan)"
   ]
  },
  {
   "cell_type": "raw",
   "metadata": {},
   "source": [
    "There are no empty columns. Let's get a definitive list of columns with ANY missing values as well."
   ]
  },
  {
   "cell_type": "code",
   "execution_count": 10,
   "metadata": {},
   "outputs": [
    {
     "data": {
      "text/plain": [
       "['state', 'self_employed', 'work_interfere', 'comments']"
      ]
     },
     "execution_count": 10,
     "metadata": {},
     "output_type": "execute_result"
    }
   ],
   "source": [
    "any_nan = df.columns[df.isnull().any()]\n",
    "list(any_nan)"
   ]
  },
  {
   "cell_type": "raw",
   "metadata": {},
   "source": [
    "State is expected to be missing some values as this only applies to responses from USA. Comments are also expected to be missing values as it is most likely optional free text. Let's see how many rows are missing values for self_employed and work_interfere. We would also like seeing the unique responses to these questions."
   ]
  },
  {
   "cell_type": "code",
   "execution_count": 11,
   "metadata": {},
   "outputs": [
    {
     "data": {
      "text/plain": [
       "{nan, 'Yes', 'No'}"
      ]
     },
     "execution_count": 11,
     "metadata": {},
     "output_type": "execute_result"
    }
   ],
   "source": [
    "set(df['self_employed'])"
   ]
  },
  {
   "cell_type": "code",
   "execution_count": 12,
   "metadata": {},
   "outputs": [
    {
     "data": {
      "text/plain": [
       "{nan, 'Never', 'Rarely', 'Often', 'Sometimes'}"
      ]
     },
     "execution_count": 12,
     "metadata": {},
     "output_type": "execute_result"
    }
   ],
   "source": [
    "set(df['work_interfere'])"
   ]
  },
  {
   "cell_type": "code",
   "execution_count": 13,
   "metadata": {},
   "outputs": [],
   "source": [
    "miss = df[(df['work_interfere'].isnull()) \n",
    "          | (df['self_employed'].isnull())]"
   ]
  },
  {
   "cell_type": "code",
   "execution_count": 14,
   "metadata": {},
   "outputs": [
    {
     "data": {
      "text/plain": [
       "(282, 27)"
      ]
     },
     "execution_count": 14,
     "metadata": {},
     "output_type": "execute_result"
    }
   ],
   "source": [
    "miss.shape"
   ]
  },
  {
   "cell_type": "raw",
   "metadata": {},
   "source": [
    "282 rows are missing values for the 2 fields. We should check if they overlap to see if this is related somehow."
   ]
  },
  {
   "cell_type": "code",
   "execution_count": 15,
   "metadata": {},
   "outputs": [
    {
     "data": {
      "text/plain": [
       "(0, 27)"
      ]
     },
     "execution_count": 15,
     "metadata": {},
     "output_type": "execute_result"
    }
   ],
   "source": [
    "overlap = miss[(miss['work_interfere'].isnull()) \n",
    "          & (miss['self_employed'].isnull())]\n",
    "overlap.shape"
   ]
  },
  {
   "cell_type": "raw",
   "metadata": {},
   "source": [
    "Given that there is no overlap, let's examine the different occurences."
   ]
  },
  {
   "cell_type": "code",
   "execution_count": 16,
   "metadata": {},
   "outputs": [
    {
     "data": {
      "text/html": [
       "<div>\n",
       "<style>\n",
       "    .dataframe thead tr:only-child th {\n",
       "        text-align: right;\n",
       "    }\n",
       "\n",
       "    .dataframe thead th {\n",
       "        text-align: left;\n",
       "    }\n",
       "\n",
       "    .dataframe tbody tr th {\n",
       "        vertical-align: top;\n",
       "    }\n",
       "</style>\n",
       "<table border=\"1\" class=\"dataframe\">\n",
       "  <thead>\n",
       "    <tr style=\"text-align: right;\">\n",
       "      <th></th>\n",
       "      <th>work_interfere</th>\n",
       "      <th>self_employed</th>\n",
       "    </tr>\n",
       "  </thead>\n",
       "  <tbody>\n",
       "    <tr>\n",
       "      <th>0</th>\n",
       "      <td>Often</td>\n",
       "      <td>NaN</td>\n",
       "    </tr>\n",
       "    <tr>\n",
       "      <th>1</th>\n",
       "      <td>Rarely</td>\n",
       "      <td>NaN</td>\n",
       "    </tr>\n",
       "    <tr>\n",
       "      <th>4</th>\n",
       "      <td>Never</td>\n",
       "      <td>NaN</td>\n",
       "    </tr>\n",
       "    <tr>\n",
       "      <th>5</th>\n",
       "      <td>Sometimes</td>\n",
       "      <td>NaN</td>\n",
       "    </tr>\n",
       "    <tr>\n",
       "      <th>19</th>\n",
       "      <td>NaN</td>\n",
       "      <td>Yes</td>\n",
       "    </tr>\n",
       "    <tr>\n",
       "      <th>26</th>\n",
       "      <td>NaN</td>\n",
       "      <td>No</td>\n",
       "    </tr>\n",
       "  </tbody>\n",
       "</table>\n",
       "</div>"
      ],
      "text/plain": [
       "   work_interfere self_employed\n",
       "0           Often           NaN\n",
       "1          Rarely           NaN\n",
       "4           Never           NaN\n",
       "5       Sometimes           NaN\n",
       "19            NaN           Yes\n",
       "26            NaN            No"
      ]
     },
     "execution_count": 16,
     "metadata": {},
     "output_type": "execute_result"
    }
   ],
   "source": [
    "miss_set = miss[['work_interfere','self_employed']].drop_duplicates()\n",
    "miss_set"
   ]
  },
  {
   "cell_type": "raw",
   "metadata": {},
   "source": [
    "Seems there is no obvious relationship between the 2. For now, we will not attempt to fill these but we can't delete the rows as they make up a large portion of our data and can be useful as the other fields are filled."
   ]
  },
  {
   "cell_type": "raw",
   "metadata": {},
   "source": [
    "As age is the only numerical column, let us examine some descriptive statistics about it."
   ]
  },
  {
   "cell_type": "code",
   "execution_count": 17,
   "metadata": {},
   "outputs": [
    {
     "data": {
      "text/plain": [
       "count    1.259000e+03\n",
       "mean     7.942815e+07\n",
       "std      2.818299e+09\n",
       "min     -1.726000e+03\n",
       "25%      2.700000e+01\n",
       "50%      3.100000e+01\n",
       "75%      3.600000e+01\n",
       "max      1.000000e+11\n",
       "Name: Age, dtype: float64"
      ]
     },
     "execution_count": 17,
     "metadata": {},
     "output_type": "execute_result"
    }
   ],
   "source": [
    "df['Age'].describe()"
   ]
  },
  {
   "cell_type": "raw",
   "metadata": {},
   "source": [
    "Immediately, we notice the minimum age is below 0 and the maximum is well over 1000. These values are most likely erroneous and could skew our findings.\n",
    "\n",
    "Let's check how many rows have these outliers in them."
   ]
  },
  {
   "cell_type": "code",
   "execution_count": 18,
   "metadata": {
    "scrolled": true
   },
   "outputs": [
    {
     "data": {
      "text/plain": [
       "(5, 27)"
      ]
     },
     "execution_count": 18,
     "metadata": {},
     "output_type": "execute_result"
    }
   ],
   "source": [
    "err_ages = df.query('Age<0 or Age>150')\n",
    "err_ages.shape"
   ]
  },
  {
   "cell_type": "raw",
   "metadata": {},
   "source": [
    "As it is only 5 rows out of 1259 (< 1% of records), we can remove them."
   ]
  },
  {
   "cell_type": "code",
   "execution_count": 19,
   "metadata": {},
   "outputs": [
    {
     "data": {
      "text/plain": [
       "(1254, 27)"
      ]
     },
     "execution_count": 19,
     "metadata": {},
     "output_type": "execute_result"
    }
   ],
   "source": [
    "df = df.query('Age>=0 and Age<150')\n",
    "df.shape"
   ]
  },
  {
   "cell_type": "raw",
   "metadata": {},
   "source": [
    "Now we may re-examine the age stats."
   ]
  },
  {
   "cell_type": "code",
   "execution_count": 20,
   "metadata": {},
   "outputs": [
    {
     "data": {
      "text/plain": [
       "count    1254.000000\n",
       "mean       32.019139\n",
       "std         7.375005\n",
       "min         5.000000\n",
       "25%        27.000000\n",
       "50%        31.000000\n",
       "75%        36.000000\n",
       "max        72.000000\n",
       "Name: Age, dtype: float64"
      ]
     },
     "execution_count": 20,
     "metadata": {},
     "output_type": "execute_result"
    }
   ],
   "source": [
    "df['Age'].describe()"
   ]
  },
  {
   "cell_type": "raw",
   "metadata": {},
   "source": [
    "Question 2.\n",
    "Now that all ages lie between 5 and 75, we can plot the age distribution."
   ]
  },
  {
   "cell_type": "code",
   "execution_count": 37,
   "metadata": {},
   "outputs": [
    {
     "data": {
      "image/png": "[encoded data removed]",
      "text/plain": [
       "<matplotlib.figure.Figure at 0x1a16548be0>"
      ]
     },
     "metadata": {},
     "output_type": "display_data"
    }
   ],
   "source": [
    "plt.subplots(figsize=(15,5))\n",
    "sns.distplot(df['Age'],bins=20)\n",
    "plt.show()"
   ]
  },
  {
   "cell_type": "raw",
   "metadata": {},
   "source": [
    "This shows that age is normally distributed with the majority of participants being around the mean age, 32."
   ]
  },
  {
   "cell_type": "code",
   "execution_count": 22,
   "metadata": {
    "scrolled": true
   },
   "outputs": [
    {
     "data": {
      "image/png": "[encoded data removed]",
      "text/plain": [
       "<matplotlib.figure.Figure at 0x104aa8048>"
      ]
     },
     "metadata": {},
     "output_type": "display_data"
    }
   ],
   "source": [
    "plt.subplots(figsize=(15,8))\n",
    "sns.violinplot(x=\"tech_company\", y=\"Age\", data=df,\n",
    "               bw=.1, scale=\"count\", palette='pastel');\n",
    "sns.swarmplot(x=\"tech_company\", y=\"Age\", hue=\"remote_work\", data=df, alpha=1);\n",
    "plt.show()"
   ]
  },
  {
   "cell_type": "raw",
   "metadata": {},
   "source": [
    "Just wanted to see if working in a tech company was related to whether or not employees work remotely. It seems like tech companies have a higher percentage of employees who work from home than non-tech companies."
   ]
  },
  {
   "cell_type": "raw",
   "metadata": {},
   "source": [
    "Question3.\n",
    "We should get an idea of how this data looks per country. First, we'll count how many entries there are for all countries."
   ]
  },
  {
   "cell_type": "code",
   "execution_count": 23,
   "metadata": {
    "scrolled": true
   },
   "outputs": [
    {
     "data": {
      "text/html": [
       "<div>\n",
       "<style>\n",
       "    .dataframe thead tr:only-child th {\n",
       "        text-align: right;\n",
       "    }\n",
       "\n",
       "    .dataframe thead th {\n",
       "        text-align: left;\n",
       "    }\n",
       "\n",
       "    .dataframe tbody tr th {\n",
       "        vertical-align: top;\n",
       "    }\n",
       "</style>\n",
       "<table border=\"1\" class=\"dataframe\">\n",
       "  <thead>\n",
       "    <tr style=\"text-align: right;\">\n",
       "      <th></th>\n",
       "      <th>count</th>\n",
       "    </tr>\n",
       "  </thead>\n",
       "  <tbody>\n",
       "    <tr>\n",
       "      <th>count</th>\n",
       "      <td>47.000000</td>\n",
       "    </tr>\n",
       "    <tr>\n",
       "      <th>mean</th>\n",
       "      <td>26.680851</td>\n",
       "    </tr>\n",
       "    <tr>\n",
       "      <th>std</th>\n",
       "      <td>111.294577</td>\n",
       "    </tr>\n",
       "    <tr>\n",
       "      <th>min</th>\n",
       "      <td>1.000000</td>\n",
       "    </tr>\n",
       "    <tr>\n",
       "      <th>25%</th>\n",
       "      <td>1.000000</td>\n",
       "    </tr>\n",
       "    <tr>\n",
       "      <th>50%</th>\n",
       "      <td>3.000000</td>\n",
       "    </tr>\n",
       "    <tr>\n",
       "      <th>75%</th>\n",
       "      <td>7.000000</td>\n",
       "    </tr>\n",
       "    <tr>\n",
       "      <th>max</th>\n",
       "      <td>748.000000</td>\n",
       "    </tr>\n",
       "  </tbody>\n",
       "</table>\n",
       "</div>"
      ],
      "text/plain": [
       "            count\n",
       "count   47.000000\n",
       "mean    26.680851\n",
       "std    111.294577\n",
       "min      1.000000\n",
       "25%      1.000000\n",
       "50%      3.000000\n",
       "75%      7.000000\n",
       "max    748.000000"
      ]
     },
     "execution_count": 23,
     "metadata": {},
     "output_type": "execute_result"
    }
   ],
   "source": [
    "country_agg = (df.groupby('Country')[['Age']].count())\n",
    "country_agg['Country'] = country_agg.index\n",
    "country_agg.rename(columns={'Age':'count'},inplace=True)\n",
    "country_agg.describe()"
   ]
  },
  {
   "cell_type": "raw",
   "metadata": {},
   "source": [
    "The standard deviation is large and the mmedian value is much different to the mean value. This, coupled with a range of 747 seems to indicate a wide spread of values that are negatively skewed. \n",
    "\n",
    "Let's see how this looks on a map. We will plot the highest 10 on the map(this is because geopy throttles requests)."
   ]
  },
  {
   "cell_type": "code",
   "execution_count": 24,
   "metadata": {},
   "outputs": [
    {
     "name": "stdout",
     "output_type": "stream",
     "text": [
      "Fetching countries, please wait...\n",
      "...\n",
      "...\n",
      "...\n",
      "...\n",
      "...\n",
      "...\n",
      "...\n",
      "...\n",
      "...\n",
      "...\n",
      "Done!\n"
     ]
    },
    {
     "data": {
      "text/html": [
       "<div style=\"width:100%;\"><div style=\"position:relative;width:100%;height:0;padding-bottom:60%;\"><iframe src=\"data:text/html;charset=utf-8;base64,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\" style=\"position:absolute;width:100%;height:100%;left:0;top:0;border:none !important;\" allowfullscreen webkitallowfullscreen mozallowfullscreen></iframe></div></div>"
      ],
      "text/plain": [
       "<folium.folium.Map at 0x103f40240>"
      ]
     },
     "execution_count": 24,
     "metadata": {},
     "output_type": "execute_result"
    }
   ],
   "source": [
    "#please wait a minute and re-run this step if it fails. \n",
    "#geopy sometimes thros an error for what seems to be too many requests.\n",
    "geolocator = Nominatim()\n",
    "\n",
    "country_top10 = country_agg.nlargest(10,'count')\n",
    "countries  = pd.DataFrame({'Country':list(country_top10['Country'])})\n",
    "\n",
    "names = []\n",
    "lats = []\n",
    "longs = []\n",
    "\n",
    "print('Fetching countries, please wait...')\n",
    "for c in list(countries['Country']):\n",
    "   geo = geolocator.geocode(c) \n",
    "   names.append(c)\n",
    "   lats.append(geo.latitude)\n",
    "   longs.append(geo.longitude)\n",
    "   print('...')\n",
    "print('Done!')\n",
    "\n",
    "geo_df = pd.DataFrame({'Country':names,'longitude':longs,'latitude':lats})\n",
    "df_coords = pd.merge(country_agg,geo_df,how='inner',on='Country')\n",
    "\n",
    "map = folium.Map(location=[20,0], tiles='Mapbox Bright', zoom_start=1.5)\n",
    "for i in range(0,10):\n",
    "    row = df_coords.iloc[i]\n",
    "    folium.Circle(\n",
    "        location=[row['latitude'],row['longitude']],\n",
    "        popup=row['Country'],\n",
    "        radius=str(row['count']*1000),\n",
    "        color='crimson',\n",
    "        fill=True,\n",
    "        fill_color='crimson'\n",
    "    ).add_to(map)\n",
    "map"
   ]
  },
  {
   "cell_type": "raw",
   "metadata": {},
   "source": [
    "We can see based on the radius of the red circles that the most responses were \n",
    "recorded in the United States, United Kingdom and Canada respectively. If this \n",
    "data set is a representative sample of the world, it would seem to indicate that\n",
    "these countries, in the order listed, have the highest prevalence of mental\n",
    "health issues."
   ]
  },
  {
   "cell_type": "raw",
   "metadata": {},
   "source": [
    "Question 4 and 5\n",
    "Now we will look at the role that family history has to play in individuals with mental health issues.\n",
    "First, we get an idea of the values of this column."
   ]
  },
  {
   "cell_type": "code",
   "execution_count": 25,
   "metadata": {},
   "outputs": [
    {
     "data": {
      "text/plain": [
       "{'No', 'Yes'}"
      ]
     },
     "execution_count": 25,
     "metadata": {},
     "output_type": "execute_result"
    }
   ],
   "source": [
    "set(df['family_history'])"
   ]
  },
  {
   "cell_type": "code",
   "execution_count": 26,
   "metadata": {},
   "outputs": [
    {
     "data": {
      "image/png": "[encoded data removed]",
      "text/plain": [
       "<matplotlib.figure.Figure at 0x1a0c57b438>"
      ]
     },
     "metadata": {},
     "output_type": "display_data"
    }
   ],
   "source": [
    "sns.countplot(x='family_history', data=df, palette=\"Blues_d\")\n",
    "plt.show()"
   ]
  },
  {
   "cell_type": "raw",
   "metadata": {},
   "source": [
    "From this, we can see, that the majority of people with mental issues actually did not have history of it in their family."
   ]
  },
  {
   "cell_type": "raw",
   "metadata": {},
   "source": [
    "Questions 6\n",
    "Let's look at the values of the columns of interest to see if they require massaging."
   ]
  },
  {
   "cell_type": "code",
   "execution_count": 27,
   "metadata": {},
   "outputs": [
    {
     "name": "stdout",
     "output_type": "stream",
     "text": [
      "{'Yes', 'No', \"Don't know\"}\n",
      "{'Yes', 'No', \"Don't know\"}\n",
      "{'1-5', '26-100', '6-25', '500-1000', 'More than 1000', '100-500'}\n"
     ]
    }
   ],
   "source": [
    "print(set(df['mental_vs_physical']))\n",
    "print(set(df['benefits']))\n",
    "print(set(df['no_employees']))"
   ]
  },
  {
   "cell_type": "code",
   "execution_count": 28,
   "metadata": {},
   "outputs": [
    {
     "data": {
      "image/png": "[encoded data removed]",
      "text/plain": [
       "<matplotlib.figure.Figure at 0x1a15e415f8>"
      ]
     },
     "metadata": {},
     "output_type": "display_data"
    }
   ],
   "source": [
    "sns.countplot(x='benefits', data=df[df['mental_vs_physical']=='Yes'])\n",
    "plt.show()"
   ]
  },
  {
   "cell_type": "raw",
   "metadata": {},
   "source": [
    "Most people with mental health issues say that their employer provides benefits to cater to them. We can probe further into this and see if there is any relation to the size of the companies offering these benefits."
   ]
  },
  {
   "cell_type": "code",
   "execution_count": 29,
   "metadata": {
    "scrolled": true
   },
   "outputs": [
    {
     "data": {
      "image/png": "[encoded data removed]",
      "text/plain": [
       "<matplotlib.figure.Figure at 0x1a14f68668>"
      ]
     },
     "metadata": {},
     "output_type": "display_data"
    }
   ],
   "source": [
    "sns.countplot(x='benefits', data=df[df['mental_vs_physical']=='Yes'],hue='no_employees')\n",
    "plt.show()"
   ]
  },
  {
   "cell_type": "raw",
   "metadata": {},
   "source": [
    "It seems like the larger companies with over 25 employees, \n",
    "have the highest presence and awareness of mental health \n",
    "issues benefits."
   ]
  },
  {
   "cell_type": "code",
   "execution_count": 30,
   "metadata": {},
   "outputs": [
    {
     "data": {
      "image/png": "[encoded data removed]",
      "text/plain": [
       "<matplotlib.figure.Figure at 0x1a15f5f128>"
      ]
     },
     "metadata": {},
     "output_type": "display_data"
    }
   ],
   "source": [
    "sns.countplot(x='care_options', data=df[\n",
    "    (df['mental_vs_physical']=='Yes') & \n",
    "    (df['benefits'] == \"Don't know\")] )\n",
    "plt.show()"
   ]
  },
  {
   "cell_type": "raw",
   "metadata": {},
   "source": [
    "Those who don't know if their employer has benefits, neither know about care options. \n",
    "This could be an area to investigate for these companies as their employees may \n",
    "benefit from an education drive."
   ]
  },
  {
   "cell_type": "raw",
   "metadata": {},
   "source": [
    "Question 7\n",
    "The histogram below shows that most people think it is either somewhat easy or very \n",
    "easy to take leave for mental health issues in companies that take it seriously.\n",
    "This could suggest that the companies support their employees through the challenges\n",
    "presented by their mental health issues."
   ]
  },
  {
   "cell_type": "code",
   "execution_count": 31,
   "metadata": {},
   "outputs": [
    {
     "data": {
      "image/png": "[encoded data removed]",
      "text/plain": [
       "<matplotlib.figure.Figure at 0x1a11c70b70>"
      ]
     },
     "metadata": {},
     "output_type": "display_data"
    }
   ],
   "source": [
    "(df[df['mental_vs_physical'] == \"Yes\"])['leave'].hist(figsize=(12,5))\n",
    "plt.show()"
   ]
  },
  {
   "cell_type": "raw",
   "metadata": {},
   "source": [
    "Question 8 and 9\n",
    "There seems to be an almost even number of people receiving treatment vs those who are not"
   ]
  },
  {
   "cell_type": "code",
   "execution_count": 32,
   "metadata": {},
   "outputs": [
    {
     "data": {
      "image/png": "[encoded data removed]",
      "text/plain": [
       "<matplotlib.figure.Figure at 0x1a161b2908>"
      ]
     },
     "metadata": {},
     "output_type": "display_data"
    }
   ],
   "source": [
    "treat_agg = (df.groupby('treatment')[['Age']].count())\n",
    "treat_agg['treatment'] = treat_agg.index\n",
    "treat_agg.rename(columns={'Age':'count'},inplace=True)\n",
    "\n",
    "plt.pie(treat_agg['count'],explode=(0.1,0),labels=treat_agg['treatment'],\n",
    "        colors=['gold','lightskyblue'],autopct='%1.1f%%', shadow=True, startangle=140)\n",
    "\n",
    "plt.show()"
   ]
  },
  {
   "cell_type": "raw",
   "metadata": {},
   "source": [
    "Question 10"
   ]
  },
  {
   "cell_type": "code",
   "execution_count": 33,
   "metadata": {},
   "outputs": [
    {
     "data": {
      "image/png": "[encoded data removed]",
      "text/plain": [
       "<matplotlib.figure.Figure at 0x1a15fcd898>"
      ]
     },
     "metadata": {},
     "output_type": "display_data"
    }
   ],
   "source": [
    "mosaic(df,['work_interfere'])\n",
    "plt.show()"
   ]
  },
  {
   "cell_type": "raw",
   "metadata": {},
   "source": [
    "Most people in the survey say that their mental health affects their work atleast sometimes. The minority, what looks like around 20% of the people clain they are never affected."
   ]
  }
 ],
 "metadata": {
  "kernelspec": {
   "display_name": "Python 3",
   "language": "python",
   "name": "python3"
  },
  "language_info": {
   "codemirror_mode": {
    "name": "ipython",
    "version": 3
   },
   "file_extension": ".py",
   "mimetype": "text/x-python",
   "name": "python",
   "nbconvert_exporter": "python",
   "pygments_lexer": "ipython3",
   "version": "3.6.3"
  }
 },
 "nbformat": 4,
 "nbformat_minor": 2
}
